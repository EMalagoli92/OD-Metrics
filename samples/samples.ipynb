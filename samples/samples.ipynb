{
 "cells": [
  {
   "cell_type": "markdown",
   "id": "9036fcc7-5364-4d4e-b3fe-778e2d4ffbe3",
   "metadata": {},
   "source": [
    "# OD-Metrics Samples"
   ]
  },
  {
   "cell_type": "markdown",
   "id": "6d93e8d0-f8f2-49c3-8f7f-321b95ac89f6",
   "metadata": {},
   "source": [
    "## Install OD-Metrics"
   ]
  },
  {
   "cell_type": "code",
   "execution_count": null,
   "id": "b9e9dc16-1643-48d6-899a-469606617bae",
   "metadata": {},
   "outputs": [],
   "source": [
    "!pip install od-metrics"
   ]
  },
  {
   "cell_type": "markdown",
   "id": "7644b52d-dcff-4e15-9f7a-6f0413a03356",
   "metadata": {},
   "source": [
    "## Example data\n",
    "\n",
    "### Image 1\n",
    "![title](../docs/assets/image_1.png)\n",
    "\n",
    "- `2` ground truth bounding boxes with: one belonging to `0` class and one to `1` class:\n",
    "- `3` predictions bounding boxes, with `labels` `[0, 1, 1]` and `scores` `[.88, .70, .80]`.\n",
    "      \n",
    "```python\n",
    "y_true =\n",
    "    {\n",
    "     \"boxes\": [[25, 16, 38, 56], [129, 123, 41, 62]],\n",
    "     \"labels\": [0, 1]\n",
    "     }\n",
    "y_pred =\n",
    "    {\n",
    "     \"boxes\": [[25, 27, 37, 54], [119, 111, 40, 67], [124, 9, 49, 67]],\n",
    "     \"labels\": [0, 1, 1],\n",
    "     \"scores\": [.88, .70, .80]\n",
    "     }\n",
    "```\n",
    "\n",
    "### Image 2\n",
    "![title](../docs/assets/image_2.png)\n",
    "\n",
    "- `2` ground truth bounding boxes, each belonging to `0` class;\n",
    "- `3` predictions bounding boxes, with `labels` `[0, 1, 0]`, with `scores` `[.71, .54, .74]`.\n",
    "\n",
    "```python\n",
    "y_true =\n",
    "    {\n",
    "     \"boxes\": [[123, 11, 43, 55], [38, 132, 59, 45]],\n",
    "     \"labels\": [0, 0]\n",
    "     }\n",
    "y_pred = {\n",
    "     \"boxes\": [[64, 111, 64, 58], [26, 140, 60, 47], [19, 18, 43, 35]],\n",
    "     \"labels\": [0, 1, 0],\n",
    "     \"scores\": [.71, .54, .74]\n",
    "     }\n",
    "```"
   ]
  },
  {
   "cell_type": "markdown",
   "id": "0dae7360-70b4-4df1-84e6-a260eb9ea14e",
   "metadata": {},
   "source": [
    "## Simple Example"
   ]
  },
  {
   "cell_type": "code",
   "execution_count": null,
   "id": "e1e3a789-2eee-4026-aeb3-62910d5be887",
   "metadata": {},
   "outputs": [],
   "source": [
    "from od_metrics import ODMetrics\n",
    "\n",
    "# Ground truths\n",
    "y_true = [\n",
    "    { # image 1\n",
    "     \"boxes\": [[25, 16, 38, 56], [129, 123, 41, 62]],\n",
    "     \"labels\": [0, 1]\n",
    "     },\n",
    "    { # image 2\n",
    "     \"boxes\": [[123, 11, 43, 55], [38, 132, 59, 45]],\n",
    "     \"labels\": [0, 0]\n",
    "     }\n",
    "    ]\n",
    "\n",
    "# Predictions\n",
    "y_pred = [\n",
    "    { # image 1\n",
    "     \"boxes\": [[25, 27, 37, 54], [119, 111, 40, 67], [124, 9, 49, 67]],\n",
    "     \"labels\": [0, 1, 1],\n",
    "     \"scores\": [.88, .70, .80]\n",
    "     },\n",
    "    { # image 2\n",
    "     \"boxes\": [[64, 111, 64, 58], [26, 140, 60, 47], [19, 18, 43, 35]],\n",
    "     \"labels\": [0, 1, 0],\n",
    "     \"scores\": [.71, .54, .74]\n",
    "     }\n",
    "    ]\n",
    "\n",
    "metrics = ODMetrics()\n",
    "output = metrics.compute(y_true, y_pred)\n",
    "output"
   ]
  },
  {
   "cell_type": "markdown",
   "id": "0653bc1e-8580-4721-9fd2-ca7ef847d19f",
   "metadata": {},
   "source": [
    "## Custom settings example"
   ]
  },
  {
   "cell_type": "code",
   "execution_count": null,
   "id": "33f892e7-c904-453c-998b-9f4f9a7292af",
   "metadata": {},
   "outputs": [],
   "source": [
    "from od_metrics import ODMetrics\n",
    "\n",
    "# Ground truths\n",
    "y_true = [\n",
    "    { # image 1\n",
    "     \"boxes\": [[25, 16, 38, 56], [129, 123, 41, 62]],\n",
    "     \"labels\": [0, 1]\n",
    "     },\n",
    "    { # image 2\n",
    "     \"boxes\": [[123, 11, 43, 55], [38, 132, 59, 45]],\n",
    "     \"labels\": [0, 0]\n",
    "     }\n",
    "    ]\n",
    "\n",
    "# Predictions\n",
    "y_pred = [\n",
    "    { # image 1\n",
    "     \"boxes\": [[25, 27, 37, 54], [119, 111, 40, 67], [124, 9, 49, 67]],\n",
    "     \"labels\": [0, 1, 1],\n",
    "     \"scores\": [.88, .70, .80]\n",
    "     },\n",
    "    { # image 2\n",
    "     \"boxes\": [[64, 111, 64, 58], [26, 140, 60, 47], [19, 18, 43, 35]],\n",
    "     \"labels\": [0, 1, 0],\n",
    "     \"scores\": [.71, .54, .74]\n",
    "     }\n",
    "    ]\n",
    "\n",
    "metrics = ODMetrics(iou_thresholds=.4, max_detection_thresholds=2)\n",
    "output = metrics.compute(y_true, y_pred)\n",
    "output"
   ]
  },
  {
   "cell_type": "markdown",
   "id": "c7c4c031-30ab-4ca9-a565-e1bd4db049b2",
   "metadata": {},
   "source": [
    "## `class_metrics` example"
   ]
  },
  {
   "cell_type": "code",
   "execution_count": null,
   "id": "ce98896d-186e-47e0-92ba-37667f699e0a",
   "metadata": {},
   "outputs": [],
   "source": [
    "from od_metrics import ODMetrics\n",
    "\n",
    "# Ground truths\n",
    "y_true = [\n",
    "    { # image 1\n",
    "     \"boxes\": [[25, 16, 38, 56], [129, 123, 41, 62]],\n",
    "     \"labels\": [0, 1]\n",
    "     },\n",
    "    { # image 2\n",
    "     \"boxes\": [[123, 11, 43, 55], [38, 132, 59, 45]],\n",
    "     \"labels\": [0, 0]\n",
    "     }\n",
    "    ]\n",
    "\n",
    "# Predictions\n",
    "y_pred = [\n",
    "    { # image 1\n",
    "     \"boxes\": [[25, 27, 37, 54], [119, 111, 40, 67], [124, 9, 49, 67]],\n",
    "     \"labels\": [0, 1, 1],\n",
    "     \"scores\": [.88, .70, .80]\n",
    "     },\n",
    "    { # image 2\n",
    "     \"boxes\": [[64, 111, 64, 58], [26, 140, 60, 47], [19, 18, 43, 35]],\n",
    "     \"labels\": [0, 1, 0],\n",
    "     \"scores\": [.71, .54, .74]\n",
    "     }\n",
    "    ]\n",
    "\n",
    "metrics = ODMetrics(class_metrics=True)\n",
    "output = metrics.compute(y_true, y_pred)\n",
    "output"
   ]
  },
  {
   "cell_type": "markdown",
   "id": "f27bdb44-9f67-4735-be70-a1e93f76556b",
   "metadata": {},
   "source": [
    "## `extended_summary` example"
   ]
  },
  {
   "cell_type": "code",
   "execution_count": null,
   "id": "032d3b98-96de-4933-a14c-9d6a0cc0f654",
   "metadata": {},
   "outputs": [],
   "source": [
    "from od_metrics import ODMetrics\n",
    "\n",
    "# Ground truths\n",
    "y_true = [\n",
    "    { # image 1\n",
    "     \"boxes\": [[25, 16, 38, 56], [129, 123, 41, 62]],\n",
    "     \"labels\": [0, 1]\n",
    "     },\n",
    "    { # image 2\n",
    "     \"boxes\": [[123, 11, 43, 55], [38, 132, 59, 45]],\n",
    "     \"labels\": [0, 0]\n",
    "     }\n",
    "    ]\n",
    "\n",
    "# Predictions\n",
    "y_pred = [\n",
    "    { # image 1\n",
    "     \"boxes\": [[25, 27, 37, 54], [119, 111, 40, 67], [124, 9, 49, 67]],\n",
    "     \"labels\": [0, 1, 1],\n",
    "     \"scores\": [.88, .70, .80]\n",
    "     },\n",
    "    { # image 2\n",
    "     \"boxes\": [[64, 111, 64, 58], [26, 140, 60, 47], [19, 18, 43, 35]],\n",
    "     \"labels\": [0, 1, 0],\n",
    "     \"scores\": [.71, .54, .74]\n",
    "     }\n",
    "    ]\n",
    "\n",
    "metrics = ODMetrics()\n",
    "output = metrics.compute(y_true, y_pred, extended_summary=True)\n",
    "list(output.keys())"
   ]
  },
  {
   "cell_type": "markdown",
   "id": "3bcdc09a-bc3f-49f3-b59a-9cd726908b2e",
   "metadata": {},
   "source": [
    "## `mean_evaluator` example"
   ]
  },
  {
   "cell_type": "code",
   "execution_count": null,
   "id": "8b9992cd-7064-4966-9de4-455092f91752",
   "metadata": {},
   "outputs": [],
   "source": [
    "from od_metrics import ODMetrics\n",
    "\n",
    "# Ground truths\n",
    "y_true = [\n",
    "    { # image 1\n",
    "     \"boxes\": [[25, 16, 38, 56], [129, 123, 41, 62]],\n",
    "     \"labels\": [0, 1]\n",
    "     },\n",
    "    { # image 2\n",
    "     \"boxes\": [[123, 11, 43, 55], [38, 132, 59, 45]],\n",
    "     \"labels\": [0, 0]\n",
    "     }\n",
    "    ]\n",
    "\n",
    "# Predictions\n",
    "y_pred = [\n",
    "    { # image 1\n",
    "     \"boxes\": [[25, 27, 37, 54], [119, 111, 40, 67], [124, 9, 49, 67]],\n",
    "     \"labels\": [0, 1, 1],\n",
    "     \"scores\": [.88, .70, .80]\n",
    "     },\n",
    "    { # image 2\n",
    "     \"boxes\": [[64, 111, 64, 58], [26, 140, 60, 47], [19, 18, 43, 35]],\n",
    "     \"labels\": [0, 1, 0],\n",
    "     \"scores\": [.71, .54, .74]\n",
    "     }\n",
    "    ]\n",
    "\n",
    "metrics = ODMetrics()\n",
    "output = metrics.compute(y_true, y_pred, extended_summary=True)\n",
    "mean_evaluator = output[\"mean_evaluator\"]\n",
    "_metric = mean_evaluator(\n",
    "    iou_threshold=.55,\n",
    "    max_detection_threshold=10,\n",
    "    area_range_key=\"medium\",\n",
    "    metrics=\"AP\"\n",
    "    )\n",
    "_metric"
   ]
  },
  {
   "cell_type": "markdown",
   "id": "b2d9b703-5d98-412a-9a81-2794a0db2a9d",
   "metadata": {},
   "source": [
    "## `IoU` example"
   ]
  },
  {
   "cell_type": "code",
   "execution_count": null,
   "id": "fff05ae4-705b-4ea4-b557-c6400a3fa653",
   "metadata": {},
   "outputs": [],
   "source": [
    "from od_metrics import iou\n",
    "\n",
    "y_true = [[25, 16, 38, 56], [129, 123, 41, 62]]\n",
    "y_pred = [[25, 27, 37, 54], [119, 111, 40, 67], [124, 9, 49, 67]]\n",
    "\n",
    "result = iou(y_true, y_pred)\n",
    "result"
   ]
  }
 ],
 "metadata": {
  "kernelspec": {
   "display_name": "Python 3 (ipykernel)",
   "language": "python",
   "name": "python3"
  },
  "language_info": {
   "codemirror_mode": {
    "name": "ipython",
    "version": 3
   },
   "file_extension": ".py",
   "mimetype": "text/x-python",
   "name": "python",
   "nbconvert_exporter": "python",
   "pygments_lexer": "ipython3",
   "version": "3.9.18"
  }
 },
 "nbformat": 4,
 "nbformat_minor": 5
}
